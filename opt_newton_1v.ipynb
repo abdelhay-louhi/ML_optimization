{
 "cells": [
  {
   "cell_type": "markdown",
   "metadata": {},
   "source": [
    "# Plan\n",
    "\n",
    "- **1 Variable Functions**\n",
    "  - Newton\n",
    "  - Bisection\n",
    "- **2 Variable Functions**\n",
    "  - Gradient\n",
    "  - Newton\n",
    "- **3 Variable Functions**\n",
    "- **4 Variable Functions**\n",
    "- **Multi-variable Functions**"
   ]
  },
  {
   "cell_type": "markdown",
   "metadata": {},
   "source": [
    "# Newton's Method for Optimization of One-Dimensional Functions"
   ]
  },
  {
   "cell_type": "code",
   "execution_count": 241,
   "metadata": {},
   "outputs": [],
   "source": [
    "# needed liberaries\n",
    "\n",
    "import matplotlib.pyplot as plt\n",
    "import numpy as np\n",
    "from string import ascii_uppercase as chars"
   ]
  },
  {
   "cell_type": "markdown",
   "metadata": {},
   "source": [
    "Considering a function f of C2 (derivable, f' derivable and f'' contenue ).  \n",
    "This algoeithme is useful for convex functions in a specific [a, b] domain,   \n",
    "because once the algorithm arrived to the first minimum it gonna stop.  "
   ]
  },
  {
   "cell_type": "markdown",
   "metadata": {},
   "source": [
    "   ---> the user need to provide f, df, ddf, x (starting_point), pre (precesion) <---"
   ]
  },
  {
   "cell_type": "code",
   "execution_count": 242,
   "metadata": {},
   "outputs": [],
   "source": [
    "# the function and its derrivatives:\n",
    "\n",
    "def f(x):\n",
    "    return  x**5 - 4*x + 5\n",
    "\n",
    "def df(x):\n",
    "    return 5*x**4 - 4\n",
    "\n",
    "def ddf(x):\n",
    "    return 20*x**3"
   ]
  },
  {
   "cell_type": "code",
   "execution_count": 243,
   "metadata": {},
   "outputs": [],
   "source": [
    "# algorithm configurations\n",
    "\n",
    "x = 13  # starting point\n",
    "# pre = 10**(-1)  # presicion, or stoping condition.\n",
    "pre = 0.3"
   ]
  },
  {
   "cell_type": "code",
   "execution_count": 244,
   "metadata": {},
   "outputs": [],
   "source": [
    "def newton(x, pre):\n",
    "    c = 0 # counter \n",
    "    t = 1  # just a value bigger than pre to start, normaly we have to use doWhile which is not in python.\n",
    "    res = []\n",
    "    res.append(x)\n",
    "\n",
    "    print(\" x\", c,\" = \", x)\n",
    "    print(\"--------------------------------------------------\")\n",
    "\n",
    "    while (t > pre ):\n",
    "        dfx = df(x)\n",
    "        ddfx = ddf(x)\n",
    "        c += 1\n",
    "        if( dfx ):\n",
    "            if ( ddfx ):\n",
    "                x2 = x - dfx/ddfx\n",
    "                t = abs(x2 - x)/abs(x2)\n",
    "                x = x2\n",
    "                res.append(x)\n",
    "                print(\" x\", c,\" = \", round(x, 5),\" precision = \", round(t, 5))\n",
    "                print(\"--------------------------------------------------\")\n",
    "            else:\n",
    "                res.append(x)\n",
    "                print(\" x\", c,\" = \", round(x, 5),\" precision = \", round(t, 5))\n",
    "                print(\"--------------------------------------------------\")\n",
    "                return res\n",
    "        else:\n",
    "            res.append(x)\n",
    "            print(\" x\", c,\" = \", round(x, 5),\" precision = 0\"+\"**OPTIMAL**\")\n",
    "            print(\"--------------------------------------------------\")\n",
    "            return res\n",
    "    return res"
   ]
  },
  {
   "cell_type": "code",
   "execution_count": 245,
   "metadata": {},
   "outputs": [
    {
     "name": "stdout",
     "output_type": "stream",
     "text": [
      " x 0  =  13\n",
      "--------------------------------------------------\n",
      " x 1  =  9.75009  precision =  0.33332\n",
      "--------------------------------------------------\n",
      " x 2  =  7.31278  precision =  0.33329\n",
      "--------------------------------------------------\n",
      " x 3  =  5.4851  precision =  0.33321\n",
      "--------------------------------------------------\n",
      " x 4  =  4.11504  precision =  0.33294\n",
      "--------------------------------------------------\n",
      " x 5  =  3.08915  precision =  0.33209\n",
      "--------------------------------------------------\n",
      " x 6  =  2.32365  precision =  0.32944\n",
      "--------------------------------------------------\n",
      " x 7  =  1.75868  precision =  0.32125\n",
      "--------------------------------------------------\n",
      " x 8  =  1.35577  precision =  0.29717\n",
      "--------------------------------------------------\n",
      "size = 9\n"
     ]
    },
    {
     "data": {
      "image/png": "[encoded data removed]",
      "text/plain": [
       "<Figure size 640x480 with 1 Axes>"
      ]
     },
     "metadata": {},
     "output_type": "display_data"
    }
   ],
   "source": [
    "x = 13 # to restart from this cell.\n",
    "res = newton(x, pre)\n",
    "print(\"size =\", len(res))\n",
    "\n",
    "# visualazation \n",
    "x_f = np.linspace(-15, 15, 500)\n",
    "y_f = [f(K) for K in x_f]\n",
    "plt.plot(x_f, y_f, c='g')\n",
    "\n",
    "for i in range(len(res)): # len(res) # (ex:6) number of points we want in the gragh (--> presecion)\n",
    "    x = res[i]\n",
    "    y = f(x)\n",
    "    plt.scatter(x, y, c='r')\n",
    "    # plt.text(x, y, chars[i])"
   ]
  }
 ],
 "metadata": {
  "kernelspec": {
   "display_name": "cv",
   "language": "python",
   "name": "python3"
  },
  "language_info": {
   "codemirror_mode": {
    "name": "ipython",
    "version": 3
   },
   "file_extension": ".py",
   "mimetype": "text/x-python",
   "name": "python",
   "nbconvert_exporter": "python",
   "pygments_lexer": "ipython3",
   "version": "3.11.2"
  }
 },
 "nbformat": 4,
 "nbformat_minor": 2
}
